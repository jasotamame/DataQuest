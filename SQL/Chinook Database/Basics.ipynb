{
 "cells": [
  {
   "cell_type": "markdown",
   "metadata": {},
   "source": [
    "# Chinook database\n",
    "In this project, I am going to use SQL to answer business questions. I will be using the Chinook database, a sample database available for SQL Server, Oracle, MySQL. This database represents a digital media store, including tables for artists, albums, media tracks, invoices and customers.\n",
    "\n",
    "\n",
    "Below, you can observe a diagram of the database.\n",
    "\n",
    "# IMAGE"
   ]
  },
  {
   "cell_type": "code",
   "execution_count": 11,
   "metadata": {
    "collapsed": false
   },
   "outputs": [
    {
     "data": {
      "text/plain": [
       "'Connected: None@chinook.db'"
      ]
     },
     "execution_count": 11,
     "metadata": {},
     "output_type": "execute_result"
    }
   ],
   "source": [
    "%%capture\n",
    "%load_ext sql\n",
    "%sql sqlite:///chinook.db"
   ]
  },
  {
   "cell_type": "markdown",
   "metadata": {},
   "source": [
    "## List of tables in our database"
   ]
  },
  {
   "cell_type": "code",
   "execution_count": 12,
   "metadata": {
    "collapsed": false
   },
   "outputs": [
    {
     "name": "stdout",
     "output_type": "stream",
     "text": [
      "Done.\n"
     ]
    },
    {
     "data": {
      "text/html": [
       "<table>\n",
       "    <tr>\n",
       "        <th>name</th>\n",
       "        <th>type</th>\n",
       "    </tr>\n",
       "    <tr>\n",
       "        <td>album</td>\n",
       "        <td>table</td>\n",
       "    </tr>\n",
       "    <tr>\n",
       "        <td>artist</td>\n",
       "        <td>table</td>\n",
       "    </tr>\n",
       "    <tr>\n",
       "        <td>customer</td>\n",
       "        <td>table</td>\n",
       "    </tr>\n",
       "    <tr>\n",
       "        <td>employee</td>\n",
       "        <td>table</td>\n",
       "    </tr>\n",
       "    <tr>\n",
       "        <td>genre</td>\n",
       "        <td>table</td>\n",
       "    </tr>\n",
       "    <tr>\n",
       "        <td>invoice</td>\n",
       "        <td>table</td>\n",
       "    </tr>\n",
       "    <tr>\n",
       "        <td>invoice_line</td>\n",
       "        <td>table</td>\n",
       "    </tr>\n",
       "    <tr>\n",
       "        <td>media_type</td>\n",
       "        <td>table</td>\n",
       "    </tr>\n",
       "    <tr>\n",
       "        <td>playlist</td>\n",
       "        <td>table</td>\n",
       "    </tr>\n",
       "    <tr>\n",
       "        <td>playlist_track</td>\n",
       "        <td>table</td>\n",
       "    </tr>\n",
       "    <tr>\n",
       "        <td>track</td>\n",
       "        <td>table</td>\n",
       "    </tr>\n",
       "</table>"
      ],
      "text/plain": [
       "[('album', 'table'),\n",
       " ('artist', 'table'),\n",
       " ('customer', 'table'),\n",
       " ('employee', 'table'),\n",
       " ('genre', 'table'),\n",
       " ('invoice', 'table'),\n",
       " ('invoice_line', 'table'),\n",
       " ('media_type', 'table'),\n",
       " ('playlist', 'table'),\n",
       " ('playlist_track', 'table'),\n",
       " ('track', 'table')]"
      ]
     },
     "execution_count": 12,
     "metadata": {},
     "output_type": "execute_result"
    }
   ],
   "source": [
    "%%sql\n",
    "SELECT name,\n",
    "       type\n",
    "  FROM sqlite_master\n",
    " WHERE type IN (\"table\",\"view\");"
   ]
  },
  {
   "cell_type": "markdown",
   "metadata": {},
   "source": [
    "## Number of tracks sold in the USA by genre\n",
    "\n",
    "A record label has offered our Store four albums, and we can only include three albums out of the four in our catalogue. The albums are:\n",
    "- Regal (Hip-Hop)\n",
    "- Red tone (Punk)\n",
    "- Meteor and the Girls (Pop)\n",
    "- Slim Jim Bites (Blues)\n",
    "\n",
    "This US record label is interested in the US market and has asked us if we could select the albums based on this criteria. Given this, we need to find which genres sell the most tracks in the USA."
   ]
  },
  {
   "cell_type": "code",
   "execution_count": 47,
   "metadata": {
    "collapsed": false
   },
   "outputs": [
    {
     "name": "stdout",
     "output_type": "stream",
     "text": [
      "Done.\n"
     ]
    },
    {
     "data": {
      "text/html": [
       "<table>\n",
       "    <tr>\n",
       "        <th>Genre</th>\n",
       "        <th>Number_of_tracks</th>\n",
       "        <th>Percentage_sold</th>\n",
       "    </tr>\n",
       "    <tr>\n",
       "        <td>Rock</td>\n",
       "        <td>561</td>\n",
       "        <td>53.378</td>\n",
       "    </tr>\n",
       "    <tr>\n",
       "        <td>Alternative &amp; Punk</td>\n",
       "        <td>130</td>\n",
       "        <td>12.369</td>\n",
       "    </tr>\n",
       "    <tr>\n",
       "        <td>Metal</td>\n",
       "        <td>124</td>\n",
       "        <td>11.798</td>\n",
       "    </tr>\n",
       "    <tr>\n",
       "        <td>R&amp;B/Soul</td>\n",
       "        <td>53</td>\n",
       "        <td>5.043</td>\n",
       "    </tr>\n",
       "    <tr>\n",
       "        <td>Blues</td>\n",
       "        <td>36</td>\n",
       "        <td>3.425</td>\n",
       "    </tr>\n",
       "    <tr>\n",
       "        <td>Alternative</td>\n",
       "        <td>35</td>\n",
       "        <td>3.33</td>\n",
       "    </tr>\n",
       "    <tr>\n",
       "        <td>Latin</td>\n",
       "        <td>22</td>\n",
       "        <td>2.093</td>\n",
       "    </tr>\n",
       "    <tr>\n",
       "        <td>Pop</td>\n",
       "        <td>22</td>\n",
       "        <td>2.093</td>\n",
       "    </tr>\n",
       "    <tr>\n",
       "        <td>Hip Hop/Rap</td>\n",
       "        <td>20</td>\n",
       "        <td>1.903</td>\n",
       "    </tr>\n",
       "    <tr>\n",
       "        <td>Jazz</td>\n",
       "        <td>14</td>\n",
       "        <td>1.332</td>\n",
       "    </tr>\n",
       "    <tr>\n",
       "        <td>Easy Listening</td>\n",
       "        <td>13</td>\n",
       "        <td>1.237</td>\n",
       "    </tr>\n",
       "    <tr>\n",
       "        <td>Reggae</td>\n",
       "        <td>6</td>\n",
       "        <td>0.571</td>\n",
       "    </tr>\n",
       "    <tr>\n",
       "        <td>Electronica/Dance</td>\n",
       "        <td>5</td>\n",
       "        <td>0.476</td>\n",
       "    </tr>\n",
       "    <tr>\n",
       "        <td>Classical</td>\n",
       "        <td>4</td>\n",
       "        <td>0.381</td>\n",
       "    </tr>\n",
       "    <tr>\n",
       "        <td>Heavy Metal</td>\n",
       "        <td>3</td>\n",
       "        <td>0.285</td>\n",
       "    </tr>\n",
       "    <tr>\n",
       "        <td>Soundtrack</td>\n",
       "        <td>2</td>\n",
       "        <td>0.19</td>\n",
       "    </tr>\n",
       "    <tr>\n",
       "        <td>TV Shows</td>\n",
       "        <td>1</td>\n",
       "        <td>0.095</td>\n",
       "    </tr>\n",
       "</table>"
      ],
      "text/plain": [
       "[('Rock', 561, 53.378),\n",
       " ('Alternative & Punk', 130, 12.369),\n",
       " ('Metal', 124, 11.798),\n",
       " ('R&B/Soul', 53, 5.043),\n",
       " ('Blues', 36, 3.425),\n",
       " ('Alternative', 35, 3.33),\n",
       " ('Latin', 22, 2.093),\n",
       " ('Pop', 22, 2.093),\n",
       " ('Hip Hop/Rap', 20, 1.903),\n",
       " ('Jazz', 14, 1.332),\n",
       " ('Easy Listening', 13, 1.237),\n",
       " ('Reggae', 6, 0.571),\n",
       " ('Electronica/Dance', 5, 0.476),\n",
       " ('Classical', 4, 0.381),\n",
       " ('Heavy Metal', 3, 0.285),\n",
       " ('Soundtrack', 2, 0.19),\n",
       " ('TV Shows', 1, 0.095)]"
      ]
     },
     "execution_count": 47,
     "metadata": {},
     "output_type": "execute_result"
    }
   ],
   "source": [
    "%%sql\n",
    "WITH \n",
    "usa_tracks_sold AS (\n",
    "    SELECT *\n",
    "      FROM invoice i\n",
    "     INNER JOIN invoice_line il ON il.invoice_id = i.invoice_id\n",
    "     INNER JOIN customer c ON c.customer_id = i.customer_id\n",
    "     WHERE c.country = \"USA\"\n",
    ")\n",
    "\n",
    "SELECT g.name Genre,\n",
    "       COUNT(uts.track_id) AS Number_of_tracks,\n",
    "       ROUND(CAST(100*COUNT(uts.track_id) AS FLOAT) / (SELECT COUNT(uts.track_id)\n",
    "                              FROM usa_tracks_sold uts\n",
    "                              ), 3) AS Percentage_sold\n",
    "  FROM usa_tracks_sold uts\n",
    " INNER JOIN track t ON t.track_id = uts.track_id\n",
    " INNER JOIN genre g ON g.genre_id = t.genre_id\n",
    "\n",
    " GROUP BY g.name\n",
    " ORDER BY 2 DESC;\n",
    "\n",
    "\n",
    "\n"
   ]
  },
  {
   "cell_type": "markdown",
   "metadata": {
    "collapsed": true
   },
   "source": [
    "As we can see on the table above, the least common genre in our store is Hip-Hop among the albums that we are considering. Based on this, we should include the other three albums."
   ]
  },
  {
   "cell_type": "markdown",
   "metadata": {},
   "source": [
    " "
   ]
  },
  {
   "cell_type": "markdown",
   "metadata": {},
   "source": [
    "##  Analysing employee productivity\n",
    "\n",
    "We want to analyse the productivity of the Sales Support Agents within our company."
   ]
  },
  {
   "cell_type": "code",
   "execution_count": 54,
   "metadata": {
    "collapsed": false
   },
   "outputs": [
    {
     "name": "stdout",
     "output_type": "stream",
     "text": [
      "Done.\n"
     ]
    },
    {
     "data": {
      "text/html": [
       "<table>\n",
       "    <tr>\n",
       "        <th>name_employee</th>\n",
       "        <th>Birthday</th>\n",
       "        <th>Hire_date</th>\n",
       "        <th>Total_Sales</th>\n",
       "    </tr>\n",
       "    <tr>\n",
       "        <td>Jane Peacock</td>\n",
       "        <td>1973-08-29 00:00:00</td>\n",
       "        <td>2017-04-01 00:00:00</td>\n",
       "        <td>1731.5100000000039</td>\n",
       "    </tr>\n",
       "    <tr>\n",
       "        <td>Margaret Park</td>\n",
       "        <td>1947-09-19 00:00:00</td>\n",
       "        <td>2017-05-03 00:00:00</td>\n",
       "        <td>1584.0000000000034</td>\n",
       "    </tr>\n",
       "    <tr>\n",
       "        <td>Steve Johnson</td>\n",
       "        <td>1965-03-03 00:00:00</td>\n",
       "        <td>2017-10-17 00:00:00</td>\n",
       "        <td>1393.920000000002</td>\n",
       "    </tr>\n",
       "</table>"
      ],
      "text/plain": [
       "[('Jane Peacock', '1973-08-29 00:00:00', '2017-04-01 00:00:00', 1731.5100000000039),\n",
       " ('Margaret Park', '1947-09-19 00:00:00', '2017-05-03 00:00:00', 1584.0000000000034),\n",
       " ('Steve Johnson', '1965-03-03 00:00:00', '2017-10-17 00:00:00', 1393.920000000002)]"
      ]
     },
     "execution_count": 54,
     "metadata": {},
     "output_type": "execute_result"
    }
   ],
   "source": [
    "%%sql\n",
    "\n",
    "SELECT e.first_name || \" \" || e.last_name name_employee,\n",
    "       e.birthdate Birthday,\n",
    "       hire_date Hire_date,\n",
    "       SUM(i.total) Total_Sales\n",
    "  FROM employee e\n",
    " INNER JOIN customer c ON c.support_rep_id = e.employee_id\n",
    " INNER JOIN invoice i ON i.customer_id = c.customer_id\n",
    " GROUP BY 1\n",
    " HAVING e.title = \"Sales Support Agent\";\n"
   ]
  },
  {
   "cell_type": "markdown",
   "metadata": {},
   "source": [
    "As we can see above, there is a 20% difference between Jane (top seller) and Steve (bottom seller). Nonetheless, this difference can be explained by the day the were hired."
   ]
  },
  {
   "cell_type": "markdown",
   "metadata": {},
   "source": [
    " "
   ]
  },
  {
   "cell_type": "markdown",
   "metadata": {},
   "source": [
    "## Analysisng Sales by Country\n",
    "\n",
    "This time we would like to analyze the sales data for customers from each different country. Countries with only one client will be aggregated as \"Other\"."
   ]
  },
  {
   "cell_type": "code",
   "execution_count": 150,
   "metadata": {
    "collapsed": false
   },
   "outputs": [
    {
     "name": "stdout",
     "output_type": "stream",
     "text": [
      "Done.\n"
     ]
    },
    {
     "data": {
      "text/html": [
       "<table>\n",
       "    <tr>\n",
       "        <th>Country</th>\n",
       "        <th>Customers</th>\n",
       "        <th>Total_Sales</th>\n",
       "        <th>Sales_per_Customer</th>\n",
       "    </tr>\n",
       "    <tr>\n",
       "        <td>USA</td>\n",
       "        <td>13</td>\n",
       "        <td>1040.49</td>\n",
       "        <td>80.038</td>\n",
       "    </tr>\n",
       "    <tr>\n",
       "        <td>Canada</td>\n",
       "        <td>8</td>\n",
       "        <td>535.59</td>\n",
       "        <td>66.949</td>\n",
       "    </tr>\n",
       "    <tr>\n",
       "        <td>Brazil</td>\n",
       "        <td>5</td>\n",
       "        <td>427.68</td>\n",
       "        <td>85.536</td>\n",
       "    </tr>\n",
       "    <tr>\n",
       "        <td>France</td>\n",
       "        <td>5</td>\n",
       "        <td>389.07</td>\n",
       "        <td>77.814</td>\n",
       "    </tr>\n",
       "    <tr>\n",
       "        <td>Germany</td>\n",
       "        <td>4</td>\n",
       "        <td>334.62</td>\n",
       "        <td>83.655</td>\n",
       "    </tr>\n",
       "    <tr>\n",
       "        <td>United Kingdom</td>\n",
       "        <td>3</td>\n",
       "        <td>245.52</td>\n",
       "        <td>81.84</td>\n",
       "    </tr>\n",
       "    <tr>\n",
       "        <td>Czech Republic</td>\n",
       "        <td>2</td>\n",
       "        <td>273.24</td>\n",
       "        <td>136.62</td>\n",
       "    </tr>\n",
       "    <tr>\n",
       "        <td>India</td>\n",
       "        <td>2</td>\n",
       "        <td>183.15</td>\n",
       "        <td>91.575</td>\n",
       "    </tr>\n",
       "    <tr>\n",
       "        <td>Portugal</td>\n",
       "        <td>2</td>\n",
       "        <td>185.13</td>\n",
       "        <td>92.565</td>\n",
       "    </tr>\n",
       "    <tr>\n",
       "        <td>Other</td>\n",
       "        <td>15</td>\n",
       "        <td>1094.94</td>\n",
       "        <td>72.996</td>\n",
       "    </tr>\n",
       "</table>"
      ],
      "text/plain": [
       "[('USA', 13, 1040.49, 80.038),\n",
       " ('Canada', 8, 535.59, 66.949),\n",
       " ('Brazil', 5, 427.68, 85.536),\n",
       " ('France', 5, 389.07, 77.814),\n",
       " ('Germany', 4, 334.62, 83.655),\n",
       " ('United Kingdom', 3, 245.52, 81.84),\n",
       " ('Czech Republic', 2, 273.24, 136.62),\n",
       " ('India', 2, 183.15, 91.575),\n",
       " ('Portugal', 2, 185.13, 92.565),\n",
       " ('Other', 15, 1094.94, 72.996)]"
      ]
     },
     "execution_count": 150,
     "metadata": {},
     "output_type": "execute_result"
    }
   ],
   "source": [
    "%%sql\n",
    "\n",
    "WITH SalesbyCountry AS (\n",
    "    SELECT \n",
    "           CASE\n",
    "                WHEN COUNT(DISTINCT c.customer_id) = 1 THEN \"Other\"\n",
    "                ELSE c.country\n",
    "           END AS Country,\n",
    "           CASE\n",
    "                WHEN COUNT(DISTINCT c.customer_id) = 1 THEN 0\n",
    "                ELSE COUNT(DISTINCT c.customer_id)\n",
    "           END AS sort,\n",
    "           COUNT(DISTINCT c.customer_id) Customers,\n",
    "           COUNT(i.invoice_id) Number_of_Sales,\n",
    "           SUM(il.unit_price) Total\n",
    "    FROM customer c\n",
    "    INNER JOIN invoice i ON c.customer_id = i.customer_id\n",
    "    INNER JOIN invoice_line il ON il.invoice_id = i.invoice_id\n",
    "    GROUP BY c.country\n",
    ")\n",
    "\n",
    "SELECT Country,\n",
    "       SUM(Customers) Customers,\n",
    "       ROUND(SUM(Total),3) Total_Sales,\n",
    "       ROUND(SUM(Total)/SUM(Customers),3) Sales_per_Customer\n",
    "  FROM SalesbyCountry\n",
    " GROUP BY 1\n",
    " ORDER BY sort DESC;\n",
    "\n",
    "\n",
    "\n"
   ]
  },
  {
   "cell_type": "code",
   "execution_count": null,
   "metadata": {
    "collapsed": true
   },
   "outputs": [],
   "source": []
  }
 ],
 "metadata": {
  "kernelspec": {
   "display_name": "Python 3",
   "language": "python",
   "name": "python3"
  },
  "language_info": {
   "codemirror_mode": {
    "name": "ipython",
    "version": 3
   },
   "file_extension": ".py",
   "mimetype": "text/x-python",
   "name": "python",
   "nbconvert_exporter": "python",
   "pygments_lexer": "ipython3",
   "version": "3.4.3"
  }
 },
 "nbformat": 4,
 "nbformat_minor": 2
}
